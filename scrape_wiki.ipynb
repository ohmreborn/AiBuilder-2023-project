{
  "nbformat": 4,
  "nbformat_minor": 0,
  "metadata": {
    "colab": {
      "private_outputs": true,
      "provenance": [],
      "authorship_tag": "ABX9TyNn9ebLouY6TPHYU1RpZcp4",
      "include_colab_link": true
    },
    "kernelspec": {
      "name": "python3",
      "display_name": "Python 3"
    },
    "language_info": {
      "name": "python"
    }
  },
  "cells": [
    {
      "cell_type": "markdown",
      "metadata": {
        "id": "view-in-github",
        "colab_type": "text"
      },
      "source": [
        "<a href=\"https://colab.research.google.com/github/ohmreborn/question-generation-AIB2023/blob/main/scrape_wiki.ipynb\" target=\"_parent\"><img src=\"https://colab.research.google.com/assets/colab-badge.svg\" alt=\"Open In Colab\"/></a>"
      ]
    },
    {
      "cell_type": "code",
      "execution_count": null,
      "metadata": {
        "id": "5u6ZPVDfGAnZ"
      },
      "outputs": [],
      "source": [
        "# import required modules\n",
        "from bs4 import BeautifulSoup\n",
        "import requests\n",
        "\n",
        "# get URL\n",
        "page = requests.get(\"https://en.wikipedia.org/wiki/Wikipedia:WikiProject_Lists_of_topics\")\n",
        "\n",
        "# scrape webpage\n",
        "soup = BeautifulSoup(page.content, 'html.parser')\n",
        "\n",
        "# create object\n",
        "object = soup.find_all(class_=\"mw-headline\")\n",
        "print(object[1])\n",
        "# # find tags\n",
        "# items = object.find_all(class_=\"mp-h2\")\n",
        "# result = items[0]\n",
        "\n",
        "# # display tags\n",
        "# print(result.prettify())\n"
      ]
    },
    {
      "cell_type": "code",
      "source": [
        "\"\"\"\n",
        "<span class=\"mw-headline\" data-mw-thread-id=\"h-Topic_list_coverage_checklist\" id=\"Topic_list_coverage_checklist\">\n",
        "<span data-mw-comment-start=\"\" id=\"h-Topic_list_coverage_checklist\"></span>\n",
        "Topic list coverage checklist\n",
        "<span data-mw-comment-end=\"h-Topic_list_coverage_checklist\">\n",
        "</span></span>\n",
        "\"\"\""
      ],
      "metadata": {
        "id": "wfZ7R7ooGqGJ"
      },
      "execution_count": null,
      "outputs": []
    },
    {
      "cell_type": "code",
      "source": [
        "len(object)"
      ],
      "metadata": {
        "id": "xj1BAM8WHEH7"
      },
      "execution_count": null,
      "outputs": []
    },
    {
      "cell_type": "code",
      "source": [
        "object[-1]"
      ],
      "metadata": {
        "id": "kp8pOthNIZhd"
      },
      "execution_count": null,
      "outputs": []
    },
    {
      "cell_type": "code",
      "source": [],
      "metadata": {
        "id": "7q_KqoLYIeAQ"
      },
      "execution_count": null,
      "outputs": []
    }
  ]
}