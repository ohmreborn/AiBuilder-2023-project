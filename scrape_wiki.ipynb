{
  "nbformat": 4,
  "nbformat_minor": 0,
  "metadata": {
    "colab": {
      "private_outputs": true,
      "provenance": [],
      "authorship_tag": "ABX9TyPpkrh4hLVnd6b3PFZ4Guhz",
      "include_colab_link": true
    },
    "kernelspec": {
      "name": "python3",
      "display_name": "Python 3"
    },
    "language_info": {
      "name": "python"
    }
  },
  "cells": [
    {
      "cell_type": "markdown",
      "metadata": {
        "id": "view-in-github",
        "colab_type": "text"
      },
      "source": [
        "<a href=\"https://colab.research.google.com/github/ohmreborn/question-generation-AIB2023/blob/main/scrape_wiki.ipynb\" target=\"_parent\"><img src=\"https://colab.research.google.com/assets/colab-badge.svg\" alt=\"Open In Colab\"/></a>"
      ]
    },
    {
      "cell_type": "code",
      "execution_count": null,
      "metadata": {
        "id": "5u6ZPVDfGAnZ"
      },
      "outputs": [],
      "source": [
        "# import required modules\n",
        "from bs4 import BeautifulSoup\n",
        "import requests\n",
        "\n",
        "# get URL\n",
        "page = requests.get(\"https://en.wikipedia.org/wiki/Wikipedia:WikiProject_Lists_of_topics\")\n",
        "\n",
        "# scrape webpage\n",
        "soup = BeautifulSoup(page.content, 'html.parser')\n",
        "\n",
        "# create object\n",
        "# topic = soup.find_all('a',class_=\"mw-redirect\")\n",
        "\n",
        "# print(len(topic))\n",
        "\n",
        "topic = [p.find_all('a',class_=\"mw-redirect\") for p in soup.find_all('p')]\n",
        "topic = [t for top in topic for t in top]\n",
        "topic = topic[3:]\n",
        "print(topic)\n",
        "print(len(topic))"
      ]
    },
    {
      "cell_type": "code",
      "source": [
        "# import required modules\n",
        "from bs4 import BeautifulSoup\n",
        "import requests\n",
        "\n",
        "# get URL\n",
        "def scrape_topic(url):\n",
        "  page = requests.get(url)\n",
        "  soup = BeautifulSoup(page.content, 'html.parser')\n",
        "  topic = soup.find_all('p')[:3]#.text.strip()\n",
        "  topic = [t.text.strip() for t in topic]\n",
        "  return ' '.join(topic)\n",
        "for url in topic:\n",
        "  url = f\"https://en.wikipedia.org/{url.get('href')}\"\n",
        "  print(len(scrape_topic(url).split()))\n",
        "  if len(scrape_topic(url).split()) <= 30:\n",
        "    break"
      ],
      "metadata": {
        "id": "bSQhpu51jk6h"
      },
      "execution_count": null,
      "outputs": []
    },
    {
      "cell_type": "code",
      "source": [
        "url"
      ],
      "metadata": {
        "id": "tlVCW7-uteLC"
      },
      "execution_count": null,
      "outputs": []
    },
    {
      "cell_type": "code",
      "source": [
        "scrape_topic(url)"
      ],
      "metadata": {
        "id": "06nlAO8fuI0j"
      },
      "execution_count": null,
      "outputs": []
    },
    {
      "cell_type": "code",
      "source": [
        "\"\"\"\n",
        "<span class=\"mw-headline\" data-mw-thread-id=\"h-Topic_list_coverage_checklist\" id=\"Topic_list_coverage_checklist\">\n",
        "<span data-mw-comment-start=\"\" id=\"h-Topic_list_coverage_checklist\"></span>\n",
        "Topic list coverage checklist\n",
        "<span data-mw-comment-end=\"h-Topic_list_coverage_checklist\">\n",
        "</span></span>\n",
        "\"\"\""
      ],
      "metadata": {
        "id": "wfZ7R7ooGqGJ"
      },
      "execution_count": null,
      "outputs": []
    },
    {
      "cell_type": "code",
      "source": [],
      "metadata": {
        "id": "jKJZV-NfksQR"
      },
      "execution_count": null,
      "outputs": []
    }
  ]
}