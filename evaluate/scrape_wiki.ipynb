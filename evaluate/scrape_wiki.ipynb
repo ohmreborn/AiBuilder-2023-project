{
  "nbformat": 4,
  "nbformat_minor": 0,
  "metadata": {
    "colab": {
      "private_outputs": true,
      "provenance": [],
      "gpuType": "T4",
      "authorship_tag": "ABX9TyPk6FlSXDkjiotN7yWUeJt4",
      "include_colab_link": true
    },
    "kernelspec": {
      "name": "python3",
      "display_name": "Python 3"
    },
    "language_info": {
      "name": "python"
    },
    "gpuClass": "standard"
  },
  "cells": [
    {
      "cell_type": "markdown",
      "metadata": {
        "id": "view-in-github",
        "colab_type": "text"
      },
      "source": [
        "<a href=\"https://colab.research.google.com/github/ohmreborn/question-generation-AIB2023/blob/main/scrape_wiki.ipynb\" target=\"_parent\"><img src=\"https://colab.research.google.com/assets/colab-badge.svg\" alt=\"Open In Colab\"/></a>"
      ]
    },
    {
      "cell_type": "code",
      "source": [
        "!pip install -q transformers\n",
        "!pip install -q sentencepiece"
      ],
      "metadata": {
        "id": "j4LFDHVZGqUS"
      },
      "execution_count": null,
      "outputs": []
    },
    {
      "cell_type": "code",
      "execution_count": null,
      "metadata": {
        "id": "5u6ZPVDfGAnZ"
      },
      "outputs": [],
      "source": [
        "from bs4 import BeautifulSoup\n",
        "import requests\n",
        "\n",
        "page = requests.get(\"https://en.wikipedia.org/wiki/Wikipedia:WikiProject_Lists_of_topics\")\n",
        "\n",
        "soup = BeautifulSoup(page.content, 'html.parser')\n",
        "\n",
        "topic = [p.find_all('a',class_=\"mw-redirect\") for p in soup.find_all('p')]\n",
        "topic = [t for top in topic for t in top]\n",
        "topic = topic[3:]\n",
        "print(topic)\n",
        "print(len(topic))"
      ]
    },
    {
      "cell_type": "code",
      "source": [
        "import pandas as pd\n",
        "def scrape_topic(url):\n",
        "  page = requests.get(url)\n",
        "  soup = BeautifulSoup(page.content, 'html.parser')\n",
        "  topic = soup.find_all('p')[:3]#.text.strip()\n",
        "  topic = [t.text.strip() for t in topic]\n",
        "  return ' '.join(topic)\n",
        "data = [scrape_topic(f\"https://en.wikipedia.org/{url.get('href')}\") for url in topic] \n",
        "print(data)\n",
        "print(len(data))\n",
        "# for url in topic:\n",
        "#   url = f\"https://en.wikipedia.org/{url.get('href')}\"\n",
        "#   print(len(scrape_topic(url).split()))\n",
        "#   if len(scrape_topic(url).split()) <= 30:\n",
        "#     break"
      ],
      "metadata": {
        "id": "bSQhpu51jk6h"
      },
      "execution_count": null,
      "outputs": []
    },
    {
      "cell_type": "code",
      "source": [
        "data[19] # ตรวจสอบ"
      ],
      "metadata": {
        "id": "JK-7Xi83LL4p"
      },
      "execution_count": null,
      "outputs": []
    },
    {
      "cell_type": "code",
      "source": [],
      "metadata": {
        "id": "CbfZiBH-L4tt"
      },
      "execution_count": null,
      "outputs": []
    },
    {
      "cell_type": "code",
      "source": [
        "import pandas as pd\n",
        "clean = [\n",
        "\"\"\"The following outline is provided as an overview of and topical guide to culture: Culture – a set of patterns of human activity within a community or social group and the symbolic structures that give significance to such activity. Customs, laws, dress, architectural style, social standards, and traditions are all examples of cultural elements.  Since 2010, Culture is considered the Fourth Pillar of Sustainable Development by UNESCO. More: Agenda 21 for Culture or in short Culture 21. Subculture\"\"\",\n",
        "\"\"\"The following outline is provided as an overview of and topical guide to classical studies: Classical studies (Classics for short) – earliest branch of the humanities, which covers the languages, literature, history, art, and other cultural aspects of the ancient Mediterranean world.  The field focuses primarily on, but is not limited to, Ancient Greece and Ancient Rome during classical antiquity, the era spanning from the late Bronze Age of Ancient Greece during the Minoan and Mycenaean periods (c. 1600–1100 BC) through the period known as Late Antiquity to the fall of the Western Roman Empire, c. 500 AD. The word classics is also used to refer to the literature of the period. History of the western classics (Not to be confused with classical history (see below))\"\"\",\n",
        "\"\"\"The following outline is provided as an overview of and topical guide to food preparation: Food preparation is an art form and applied science that includes techniques like cooking to make ingredients fit for consumption and/or palatable. The process of food preparation includes selecting the ingredients needed and correctly handling ingredients to produce the components of a meal.\"\"\",\n",
        "\"\"\"The following outline is provided as an overview of and topical guide to critical theory: Critical theory – the examination and critique of society and culture, drawing from knowledge across the social sciences and humanities. The term has two different meanings with different origins and histories: one originating in sociology and the other in literary criticism. This has led to the very literal use of 'critical theory' as an umbrella term to describe any theory founded upon critique. The term \"Critical Theory\" was first coined by Max Horkheimer in his 1937 essay \"Traditional and Critical Theory\". African-American theory\"\"\",\n",
        "\"\"\"The following outline is provided as an overview of and topical guide to literature (prose, written or oral, including fiction and non-fiction, drama, and poetry). See also the Outline of poetry. Literature can be described as all of the following: Oral literature\"\"\",\n",
        "\"\"\"This page is a list of geography topics. Geography is the study of the world and of the distribution of life on the earth, including human life and the effects of human activity. Geography research addresses both the questions of where, as well as why, geographical phenomena occur. Geography is a diverse field that seeks to understand the world and all of its human and natural complexities—not merely where objects are, but how they came to be, and how they have changed since then.\"\"\",\n",
        "\"\"\"Health – functional and metabolic efficiency of an organism. It is the ability to live long, function well (physically and mentally), and prosper. Reproductive health\"\"\"\n",
        "\"\"\"honing athletic skills, weight loss or maintenance, as well as for the purpose of enjoyment. Frequent and regular physical exercise boosts the immune system, and helps prevent the \"diseases of affluence\" such as heart disease, cardiovascular disease, Type 2 diabetes and obesity.\"\"\",\n",
        "\"\"\"The following outline is provided as an overview of and topical guide to health sciences: Health sciences are those sciences which focus on health, or health care, as core parts of their subject matter. Health sciences relate to multiple academic disciplines, including STEM disciplines and emerging patient safety disciplines (such as social care research).\"\"\",\n",
        "\"\"\"Nutrition is the biochemical and physiological process by which an organism uses food to support its life. It provides organisms with nutrients, which can be metabolized to create energy and chemical structures. Failure to obtain sufficient nutrients causes malnutrition. Nutritional science is the study of nutrition, though it typically emphasizes human nutrition. The type of organism determines what nutrients it needs and how it obtains them. Organisms obtain nutrients by consuming organic matter, consuming inorganic matter, absorbing light, or some combination of these. Some can produce nutrients internally by consuming basic elements, while some must consume other organisms to obtain pre-existing nutrients. All forms of life require carbon, energy, and water as well as various other molecules. Animals require complex nutrients such as carbohydrates, lipids, and proteins, obtaining them by consuming other organisms. Humans have developed agriculture and cooking to replace foraging and advance human nutrition. Plants acquire nutrients through the soil and the atmosphere. Fungi absorb nutrients around them by breaking them down and absorbing them through the mycelium.\"\"\",\n",
        "#### ประวัติศาสตร์\n",
        "\"\"\"History – discovery, collection, organization, and presentation of information about past events. History can also mean the period of time after writing was invented (the beginning of recorded history).\"\"\",\n",
        "\"\"\"studies  – earliest branch of the humanities, which covers the languages, literature, history, art, and other cultural aspects of the ancient Mediterranean world.  The field focuses primarily on, but is not limited to, Ancient Greece and Ancient Rome during classical antiquity, the era spanning from the late Bronze Age of Ancient Greece during the Minoan and Mycenaean periods (c. 1600–1100 BC) through the period known as Late Antiquity to the fall of the Western Roman Empire, c. 500 AD. The word classics is also used to refer to the literature of the period. History of the western classics (Not to be confused with classical history\"\"\",\n",
        "\"\"\"Middle Ages – periodization of European history from the 5th century to the 15th century. The Middle Ages follows the fall of the Western Roman Empire in 476 and precedes the Early Modern Era. It is the middle period of a three-period division of Western history: Classic, Medieval and Modern. Middle Ages\"\"\",\n",
        "\"\"\"Renaissance – cultural movement that spanned roughly the 14th to the 17th century, beginning in Italy in the Late Middle Ages and later spreading to the rest of Europe. The term is also used more loosely to refer to the historical era, but since the changes of the Renaissance were not uniform across Europe, this is a general use of the term. Renaissance\"\"\",\n",
        "# คณิตศาสตร์\n",
        "# ไม่เอาหมายเลข 14\n",
        "\"\"\"Arithmetic is an elementary branch of mathematics that is widely used for tasks ranging from simple day-to-day counting to advanced science and business calculations.\"\"\",\n",
        "\"\"\"Algebra is one of the main branches of mathematics, covering the study of structure, relation and quantity. Algebra studies the effects of adding and multiplying numbers, variables, and polynomials, along with their factorization and determining their roots. In addition to working directly with numbers, algebra also covers symbols, variables, and set elements. Addition and multiplication are general operations, but their precise definitions lead to structures such as groups, rings, and fields. An algebraic equation is an equation involving only algebraic expressions in the unknowns. These are further classified by degree.\"\"\",\n",
        "\"\"\"Discrete mathematics is the study of mathematical structures that are fundamentally discrete rather than continuous.  In contrast to real numbers that have the property of varying \"smoothly\", the objects studied in discrete mathematics – such as integers,  graphs, and statements in logic[1] – do not vary smoothly in this way, but have distinct, separated values.[2] Discrete mathematics, therefore, excludes topics in \"continuous mathematics\" such as calculus and analysis. Included below are many of the standard terms used routinely in university-level courses and in research papers. This is not, however, intended as a complete list of mathematical terms; just a selection of typical terms of art that may be encountered. For further reading in discrete mathematics, beyond a basic level, see these pages. Many of these disciplines are closely related to computer science.\"\"\",\n",
        "\"\"\"Trigonometry is a branch of mathematics that studies the relationships between the sides and the angles in triangles. Trigonometry defines the trigonometric functions, which describe those relationships and have applicability to cyclical phenomena, such as waves. Uses of trigonometry Trigonometric identity \"\"\",\n",
        "\n",
        "]\n",
        "\n",
        "clean_df = pd.DataFrame(clean,columns=['context'])\n",
        "clean_df.to_csv('eval.csv',index=False)"
      ],
      "metadata": {
        "id": "NfgmyzGELmz1"
      },
      "execution_count": null,
      "outputs": []
    },
    {
      "cell_type": "code",
      "source": [],
      "metadata": {
        "id": "ICUljZnkfvgZ"
      },
      "execution_count": null,
      "outputs": []
    },
    {
      "cell_type": "code",
      "source": [
        "pd.read_csv('/content/eval.csv')"
      ],
      "metadata": {
        "id": "FYBP0-gQfvlM"
      },
      "execution_count": null,
      "outputs": []
    },
    {
      "cell_type": "code",
      "source": [
        "\n",
        "from transformers import XGLMTokenizer, XGLMForCausalLM, GenerationConfig\n",
        "import torch\n",
        "def load_model(base_model:str=\"ohmreborn/finetune-xglm-564M\"):\n",
        "    tokenizer = XGLMTokenizer.from_pretrained(base_model)\n",
        "    model = XGLMForCausalLM.from_pretrained(base_model,torch_dtype=torch.float16)\n",
        "    return model,tokenizer\n",
        "model,tokenizer = load_model()"
      ],
      "metadata": {
        "id": "6nBIdSlvF-X4"
      },
      "execution_count": null,
      "outputs": []
    },
    {
      "cell_type": "code",
      "source": [
        "import torch\n",
        "generation_config = GenerationConfig(\n",
        "        temperature=0.1,\n",
        "        top_p=0.75,\n",
        "        top_k=40,\n",
        "        num_beams=4,\n",
        "    )\n",
        "device = torch.device('cuda')\n",
        "model.to(device)"
      ],
      "metadata": {
        "id": "rqsaR8aKF_yM"
      },
      "execution_count": null,
      "outputs": []
    },
    {
      "cell_type": "code",
      "source": [
        "import re\n",
        "def gen(prompt,generation_config=generation_config):\n",
        "  prompt = f'{prompt} <human>:'\n",
        "  inputs = tokenizer(prompt, return_tensors=\"pt\")\n",
        "  input_ids = inputs[\"input_ids\"]\n",
        "  input_ids = input_ids.to(device)\n",
        "  def get_res(inputs):\n",
        "    with torch.no_grad():\n",
        "      generation_output = model.generate(\n",
        "          input_ids=input_ids,\n",
        "          generation_config=generation_config,\n",
        "          return_dict_in_generate=True,\n",
        "          output_scores=True,\n",
        "          max_new_tokens=256,\n",
        "      )\n",
        "    output_1_ids = generation_output.sequences[0]\n",
        "    output = tokenizer.decode(output_1_ids)  \n",
        "    return output\n",
        "  output = get_res(inputs)\n",
        "  if '<bot>:' in output:\n",
        "    res = re.split('<human>:|<bot>:|</s>',output)\n",
        "    return f'<human>: {res[2]} \\n<bot>: {res[3]}'\n",
        "  else:\n",
        "    bot_prompt = re.split(tokenizer.eos_token,output)[1]\n",
        "    bot_prompt = f'{bot_prompt} <bot>:'\n",
        "\n",
        "    inputs = tokenizer(bot_prompt, return_tensors=\"pt\")\n",
        "    input_ids = inputs[\"input_ids\"]\n",
        "    input_ids = input_ids.to(device)\n",
        "    output = get_res(inputs)\n",
        "    res = re.split('<human>:|<bot>:|</s>',output)\n",
        "    return f'<human>: {res[2]} \\n<bot>: {res[2]}'"
      ],
      "metadata": {
        "id": "WPE01qrKGGvm"
      },
      "execution_count": null,
      "outputs": []
    },
    {
      "cell_type": "code",
      "source": [
        "gen(data[1])"
      ],
      "metadata": {
        "id": "GX67cR1SHvzh"
      },
      "execution_count": null,
      "outputs": []
    },
    {
      "cell_type": "code",
      "source": [
        "generate_data = []\n",
        "for d in data:\n",
        "  res = gen(d)\n",
        "  print(res)\n",
        "  generate_data.append(res)"
      ],
      "metadata": {
        "id": "ojyxZqoLHloC"
      },
      "execution_count": null,
      "outputs": []
    },
    {
      "cell_type": "code",
      "source": [
        "generate_data"
      ],
      "metadata": {
        "id": "DIK_eye7IAB-"
      },
      "execution_count": null,
      "outputs": []
    },
    {
      "cell_type": "code",
      "source": [
        "\"\"\"\n",
        "<span class=\"mw-headline\" data-mw-thread-id=\"h-Topic_list_coverage_checklist\" id=\"Topic_list_coverage_checklist\">\n",
        "<span data-mw-comment-start=\"\" id=\"h-Topic_list_coverage_checklist\"></span>\n",
        "Topic list coverage checklist\n",
        "<span data-mw-comment-end=\"h-Topic_list_coverage_checklist\">\n",
        "</span></span>\n",
        "\"\"\""
      ],
      "metadata": {
        "id": "wfZ7R7ooGqGJ"
      },
      "execution_count": null,
      "outputs": []
    },
    {
      "cell_type": "code",
      "source": [],
      "metadata": {
        "id": "jKJZV-NfksQR"
      },
      "execution_count": null,
      "outputs": []
    }
  ]
}
