{
  "nbformat": 4,
  "nbformat_minor": 0,
  "metadata": {
    "colab": {
      "private_outputs": true,
      "provenance": [],
      "authorship_tag": "ABX9TyM0SRrd0l2Sspql53MVg/bz",
      "include_colab_link": true
    },
    "kernelspec": {
      "name": "python3",
      "display_name": "Python 3"
    },
    "language_info": {
      "name": "python"
    }
  },
  "cells": [
    {
      "cell_type": "markdown",
      "metadata": {
        "id": "view-in-github",
        "colab_type": "text"
      },
      "source": [
        "<a href=\"https://colab.research.google.com/github/ohmreborn/question-generation-AIB2023/blob/main/evaluate/evaluate.ipynb\" target=\"_parent\"><img src=\"https://colab.research.google.com/assets/colab-badge.svg\" alt=\"Open In Colab\"/></a>"
      ]
    },
    {
      "cell_type": "code",
      "source": [
        "import pandas as pd\n",
        "df = pd.read_csv('/content/results.csv')\n",
        "df.head()"
      ],
      "metadata": {
        "id": "a7oBstOA9qH0"
      },
      "execution_count": null,
      "outputs": []
    },
    {
      "cell_type": "code",
      "source": [
        "sample = df.groupby('จงเลือกว่าอยากจะทำชุดไหน')\n"
      ],
      "metadata": {
        "id": "mFUEQsdv_54n"
      },
      "execution_count": null,
      "outputs": []
    },
    {
      "cell_type": "code",
      "source": [
        "def mean(data):\n",
        "  return sum([int(i[0]) for i in data])/len(data)"
      ],
      "metadata": {
        "id": "7D4aM2B3Cd9e"
      },
      "execution_count": null,
      "outputs": []
    },
    {
      "cell_type": "code",
      "source": [
        "big_data = []\n",
        "for i,dataframe in sample:\n",
        "  dataframe.dropna(axis='columns',inplace=True)\n",
        "  dataframe.drop(['ประทับเวลา','จงเลือกว่าอยากจะทำชุดไหน','โปรดยืนยันก่อนที่จะส่งแบบฟอร์ม'],axis=1,inplace=True)\n",
        "  big_data += [mean(dataframe[col].values) for col in dataframe.columns]"
      ],
      "metadata": {
        "id": "BAI_5PvGABil"
      },
      "execution_count": null,
      "outputs": []
    },
    {
      "cell_type": "code",
      "source": [
        "import numpy as np\n",
        "col_name = ['ความถูกต้องของคำถาม',\n",
        "'ความสร้างสรรค์ของคำถาม',\n",
        "'ความถูกต้องของคำตอบ',\n",
        "'ความสร้างสรรค์ของคำตอบ']\n",
        "\n",
        "\n",
        "data = np.array(big_data).reshape(-1,4)\n",
        "data = pd.DataFrame(data,columns=col_name)\n",
        "data.head()"
      ],
      "metadata": {
        "id": "3kr1ezQXG7HH"
      },
      "execution_count": null,
      "outputs": []
    },
    {
      "cell_type": "code",
      "source": [
        "data = data.mean()\n",
        "data"
      ],
      "metadata": {
        "id": "y6cMCcarJaPp"
      },
      "execution_count": null,
      "outputs": []
    },
    {
      "cell_type": "code",
      "source": [
        "import plotly.express as px\n",
        "fig = px.bar(x=data.index, y=data.values)\n",
        "fig.show()"
      ],
      "metadata": {
        "id": "5ZOOAkuOWOuX"
      },
      "execution_count": null,
      "outputs": []
    },
    {
      "cell_type": "code",
      "source": [],
      "metadata": {
        "id": "ZtNDYOjwtsAQ"
      },
      "execution_count": null,
      "outputs": []
    }
  ]
}