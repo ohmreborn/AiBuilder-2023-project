{
  "nbformat": 4,
  "nbformat_minor": 0,
  "metadata": {
    "colab": {
      "private_outputs": true,
      "provenance": [],
      "authorship_tag": "ABX9TyNJOa280TfNx6BhQRFSUfle",
      "include_colab_link": true
    },
    "kernelspec": {
      "name": "python3",
      "display_name": "Python 3"
    },
    "language_info": {
      "name": "python"
    }
  },
  "cells": [
    {
      "cell_type": "markdown",
      "metadata": {
        "id": "view-in-github",
        "colab_type": "text"
      },
      "source": [
        "<a href=\"https://colab.research.google.com/github/ohmreborn/conversation-generation-AIB2023/blob/main/evaluate/evaluate.ipynb\" target=\"_parent\"><img src=\"https://colab.research.google.com/assets/colab-badge.svg\" alt=\"Open In Colab\"/></a>"
      ]
    },
    {
      "cell_type": "code",
      "source": [
        "import pandas as pd\n",
        "df = pd.read_csv('https://raw.githubusercontent.com/ohmreborn/conversation-generation-AIB2023/main/evaluate/results.csv')\n",
        "df.head()"
      ],
      "metadata": {
        "id": "a7oBstOA9qH0"
      },
      "execution_count": null,
      "outputs": []
    },
    {
      "cell_type": "code",
      "source": [
        "pine = df['จงเลือกว่าอยากจะทำชุดไหน'].value_counts()\n",
        "pine = pd.DataFrame({'จงเลือกว่าอยากจะทำชุดไหน':pine.index,'จำนวนคน':pine.values})\n",
        "pine"
      ],
      "metadata": {
        "id": "3YzQXl53FsNu"
      },
      "execution_count": null,
      "outputs": []
    },
    {
      "cell_type": "code",
      "source": [
        "import plotly.graph_objects as go\n",
        "import plotly.express as px\n",
        "labels = pine['จงเลือกว่าอยากจะทำชุดไหน']\n",
        "values = pine['จำนวนคน']\n",
        "\n",
        "fig = go.Figure(data=[go.Pie(labels=labels, values=values)])\n",
        "fig.update_traces(hoverinfo='label+percent', textinfo='value', textfont_size=20,\n",
        "                  marker=dict(colors=px.colors.sequential.RdBu, line=dict(color='#000000', width=2)))\n",
        "fig.show()"
      ],
      "metadata": {
        "id": "rnrFg51dJGpv"
      },
      "execution_count": null,
      "outputs": []
    },
    {
      "cell_type": "code",
      "source": [
        "col = [i[:3] for i in df.columns[:-1]]\n",
        "col = list(set(col))"
      ],
      "metadata": {
        "id": "x_bAPmLeDH8-"
      },
      "execution_count": null,
      "outputs": []
    },
    {
      "cell_type": "code",
      "source": [
        "col"
      ],
      "metadata": {
        "id": "M8aBxXMxDabU"
      },
      "execution_count": null,
      "outputs": []
    },
    {
      "cell_type": "code",
      "source": [
        "count = [0]*9\n",
        "for i in col:\n",
        "  count[int(i[0])-1] += 1\n",
        "count"
      ],
      "metadata": {
        "id": "9SJEeqOaDJdJ"
      },
      "execution_count": null,
      "outputs": []
    },
    {
      "cell_type": "code",
      "source": [
        "sum(count)"
      ],
      "metadata": {
        "id": "UdtOR6hGDLib"
      },
      "execution_count": null,
      "outputs": []
    },
    {
      "cell_type": "code",
      "source": [
        "labels = pine['จงเลือกว่าอยากจะทำชุดไหน']\n",
        "values = count\n",
        "\n",
        "fig = go.Figure(data=[go.Pie(labels=labels, values=values)])\n",
        "fig.update_traces(hoverinfo='label+percent', textinfo='label+value', textfont_size=20,\n",
        "                  marker=dict(line=dict(color='#000000', width=2)))\n",
        "fig.show()"
      ],
      "metadata": {
        "id": "PbW_0wgHRd5b"
      },
      "execution_count": null,
      "outputs": []
    },
    {
      "cell_type": "code",
      "source": [
        "sample = df.groupby('จงเลือกว่าอยากจะทำชุดไหน')\n"
      ],
      "metadata": {
        "id": "mFUEQsdv_54n"
      },
      "execution_count": null,
      "outputs": []
    },
    {
      "cell_type": "code",
      "source": [
        "def mean(data):\n",
        "  return sum([int(i[0]) for i in data])/len(data)"
      ],
      "metadata": {
        "id": "7D4aM2B3Cd9e"
      },
      "execution_count": null,
      "outputs": []
    },
    {
      "cell_type": "code",
      "source": [
        "big_data = []\n",
        "for i,dataframe in sample:\n",
        "  dataframe.dropna(axis='columns',inplace=True)\n",
        "  dataframe.drop(['จงเลือกว่าอยากจะทำชุดไหน'],axis=1,inplace=True)\n",
        "  big_data += [mean(dataframe[col].values) for col in dataframe.columns]"
      ],
      "metadata": {
        "id": "BAI_5PvGABil"
      },
      "execution_count": null,
      "outputs": []
    },
    {
      "cell_type": "code",
      "source": [
        "import numpy as np\n",
        "col_name = ['ความถูกต้องของคำตอบ',\n",
        "'ความถูกต้องของคำถาม',\n",
        "'ความสร้างสรรค์ของคำตอบ',\n",
        "'ความสร้างสรรค์ของคำถาม']\n",
        "\n",
        "\n",
        "data = np.array(big_data).reshape(-1,4)\n",
        "data = pd.DataFrame(data,columns=col_name)\n",
        "data.head()"
      ],
      "metadata": {
        "id": "3kr1ezQXG7HH"
      },
      "execution_count": null,
      "outputs": []
    },
    {
      "cell_type": "code",
      "source": [
        "data = data.mean()\n",
        "data"
      ],
      "metadata": {
        "id": "y6cMCcarJaPp"
      },
      "execution_count": null,
      "outputs": []
    },
    {
      "cell_type": "code",
      "source": [
        "fig = px.bar(x=data.index, y=data.values,color=['red','blue','red','blue'])\n",
        "fig.update_layout(yaxis_range=[1,3])\n",
        "fig.show()"
      ],
      "metadata": {
        "id": "5ZOOAkuOWOuX"
      },
      "execution_count": null,
      "outputs": []
    },
    {
      "cell_type": "code",
      "source": [
        "c = []\n",
        "for i in df.columns:\n",
        "  if i.startswith('2.1'):\n",
        "    c.append(i)\n",
        "c"
      ],
      "metadata": {
        "id": "2wl-bpYKGyBT"
      },
      "execution_count": null,
      "outputs": []
    },
    {
      "cell_type": "code",
      "source": [
        "example_1 = df.loc[:,c]\n",
        "example_1.dropna(how='all',axis=0,inplace=True)\n",
        "example_1"
      ],
      "metadata": {
        "id": "GG2NlkaH_nZK"
      },
      "execution_count": null,
      "outputs": []
    },
    {
      "cell_type": "code",
      "source": [
        "len(example_1)"
      ],
      "metadata": {
        "id": "51WXYIC1Hq1y"
      },
      "execution_count": null,
      "outputs": []
    },
    {
      "cell_type": "code",
      "source": [
        "val = []\n",
        "for col in c:\n",
        "  total = [int(i[0]) for i in example_1[col]]\n",
        "  val.append(sum(total)/len(total))\n",
        "val"
      ],
      "metadata": {
        "id": "cdo7R7F1HWAD"
      },
      "execution_count": null,
      "outputs": []
    },
    {
      "cell_type": "code",
      "source": [
        "fig = px.bar(x=col_name, y=val,color=['red','blue','red','blue'])\n",
        "fig.update_layout(yaxis_range=[1,3])\n",
        "fig.show()"
      ],
      "metadata": {
        "id": "g-TgmYmRHyXW"
      },
      "execution_count": null,
      "outputs": []
    },
    {
      "cell_type": "code",
      "source": [],
      "metadata": {
        "id": "0aSeBXJzIpcT"
      },
      "execution_count": null,
      "outputs": []
    }
  ]
}