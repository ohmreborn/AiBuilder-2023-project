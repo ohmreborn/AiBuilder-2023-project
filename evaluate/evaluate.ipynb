{
  "nbformat": 4,
  "nbformat_minor": 0,
  "metadata": {
    "colab": {
      "private_outputs": true,
      "provenance": [],
      "authorship_tag": "ABX9TyOk2OQKMNEM9kYIpo6HVJJR",
      "include_colab_link": true
    },
    "kernelspec": {
      "name": "python3",
      "display_name": "Python 3"
    },
    "language_info": {
      "name": "python"
    }
  },
  "cells": [
    {
      "cell_type": "markdown",
      "metadata": {
        "id": "view-in-github",
        "colab_type": "text"
      },
      "source": [
        "<a href=\"https://colab.research.google.com/github/ohmreborn/conversation-generation-AIB2023/blob/main/evaluate/evaluate.ipynb\" target=\"_parent\"><img src=\"https://colab.research.google.com/assets/colab-badge.svg\" alt=\"Open In Colab\"/></a>"
      ]
    },
    {
      "cell_type": "code",
      "source": [
        "import pandas as pd\n",
        "df = pd.read_csv('results.csv')\n",
        "df.head()"
      ],
      "metadata": {
        "id": "a7oBstOA9qH0"
      },
      "execution_count": null,
      "outputs": []
    },
    {
      "cell_type": "code",
      "source": [
        "col = [i[:3] for i in df.columns[:-1]]\n",
        "col = list(set(col))"
      ],
      "metadata": {
        "id": "-IJh9RUDPG53"
      },
      "execution_count": null,
      "outputs": []
    },
    {
      "cell_type": "code",
      "source": [
        "count = [0]*9\n",
        "for i in col:\n",
        "  count[int(i[0])-1] += 1\n",
        "count"
      ],
      "metadata": {
        "id": "ZhWNhd0BOiay"
      },
      "execution_count": null,
      "outputs": []
    },
    {
      "cell_type": "code",
      "source": [
        "sum(count)"
      ],
      "metadata": {
        "id": "I5mW3bqfRQ4d"
      },
      "execution_count": null,
      "outputs": []
    },
    {
      "cell_type": "code",
      "source": [
        "pine = df['จงเลือกว่าอยากจะทำชุดไหน'].value_counts()\n",
        "pine = pd.DataFrame({'จงเลือกว่าอยากจะทำชุดไหน':pine.index,'จำนวนคน':pine.values})\n",
        "pine"
      ],
      "metadata": {
        "id": "3YzQXl53FsNu"
      },
      "execution_count": null,
      "outputs": []
    },
    {
      "cell_type": "code",
      "source": [
        "import plotly.graph_objects as go\n",
        "\n",
        "labels = pine['จงเลือกว่าอยากจะทำชุดไหน']\n",
        "values = pine['จำนวนคน']\n",
        "\n",
        "fig = go.Figure(data=[go.Pie(labels=labels, values=values)])\n",
        "fig.update_traces(hoverinfo='label+percent', textinfo='value', textfont_size=20,\n",
        "                  marker=dict(colors=px.colors.sequential.RdBu, line=dict(color='#000000', width=2)))\n",
        "fig.show()"
      ],
      "metadata": {
        "id": "rnrFg51dJGpv"
      },
      "execution_count": null,
      "outputs": []
    },
    {
      "cell_type": "code",
      "source": [
        "import plotly.graph_objects as go\n",
        "\n",
        "labels = pine['จงเลือกว่าอยากจะทำชุดไหน']\n",
        "values = count\n",
        "\n",
        "fig = go.Figure(data=[go.Pie(labels=labels, values=values)])\n",
        "fig.update_traces(hoverinfo='label+percent', textinfo='label+value', textfont_size=20,\n",
        "                  marker=dict(line=dict(color='#000000', width=2)))\n",
        "fig.show()"
      ],
      "metadata": {
        "id": "PbW_0wgHRd5b"
      },
      "execution_count": null,
      "outputs": []
    },
    {
      "cell_type": "code",
      "source": [
        "sample = df.groupby('จงเลือกว่าอยากจะทำชุดไหน')\n"
      ],
      "metadata": {
        "id": "mFUEQsdv_54n"
      },
      "execution_count": null,
      "outputs": []
    },
    {
      "cell_type": "code",
      "source": [
        "def mean(data):\n",
        "  return sum([int(i[0]) for i in data])/len(data)"
      ],
      "metadata": {
        "id": "7D4aM2B3Cd9e"
      },
      "execution_count": null,
      "outputs": []
    },
    {
      "cell_type": "code",
      "source": [
        "big_data = []\n",
        "for i,dataframe in sample:\n",
        "  dataframe.dropna(axis='columns',inplace=True)\n",
        "  dataframe.drop(['จงเลือกว่าอยากจะทำชุดไหน'],axis=1,inplace=True)\n",
        "  big_data += [mean(dataframe[col].values) for col in dataframe.columns]"
      ],
      "metadata": {
        "id": "BAI_5PvGABil"
      },
      "execution_count": null,
      "outputs": []
    },
    {
      "cell_type": "code",
      "source": [
        "import numpy as np\n",
        "col_name = ['ความถูกต้องของคำตอบ',\n",
        "'ความถูกต้องของคำถาม',\n",
        "'ความสร้างสรรค์ของคำตอบ',\n",
        "'ความสร้างสรรค์ของคำถาม']\n",
        "\n",
        "\n",
        "data = np.array(big_data).reshape(-1,4)\n",
        "data = pd.DataFrame(data,columns=col_name)\n",
        "data.head()"
      ],
      "metadata": {
        "id": "3kr1ezQXG7HH"
      },
      "execution_count": null,
      "outputs": []
    },
    {
      "cell_type": "code",
      "source": [
        "data = data.mean()\n",
        "data"
      ],
      "metadata": {
        "id": "y6cMCcarJaPp"
      },
      "execution_count": null,
      "outputs": []
    },
    {
      "cell_type": "code",
      "source": [
        "import plotly.express as px\n",
        "fig = px.bar(x=data.index, y=data.values,color=['red','blue','red','blue'])\n",
        "fig.show()"
      ],
      "metadata": {
        "id": "5ZOOAkuOWOuX"
      },
      "execution_count": null,
      "outputs": []
    },
    {
      "cell_type": "code",
      "source": [],
      "metadata": {
        "id": "GG2NlkaH_nZK"
      },
      "execution_count": null,
      "outputs": []
    }
  ]
}