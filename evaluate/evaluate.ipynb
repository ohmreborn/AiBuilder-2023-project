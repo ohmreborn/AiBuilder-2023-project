{
  "nbformat": 4,
  "nbformat_minor": 0,
  "metadata": {
    "colab": {
      "private_outputs": true,
      "provenance": [],
      "authorship_tag": "ABX9TyPLp61DEtW08K62IruToIz4",
      "include_colab_link": true
    },
    "kernelspec": {
      "name": "python3",
      "display_name": "Python 3"
    },
    "language_info": {
      "name": "python"
    }
  },
  "cells": [
    {
      "cell_type": "markdown",
      "metadata": {
        "id": "view-in-github",
        "colab_type": "text"
      },
      "source": [
        "<a href=\"https://colab.research.google.com/github/ohmreborn/question-generation-AIB2023/blob/main/evaluate.ipynb\" target=\"_parent\"><img src=\"https://colab.research.google.com/assets/colab-badge.svg\" alt=\"Open In Colab\"/></a>"
      ]
    },
    {
      "cell_type": "code",
      "source": [
        "\"\"\"\n",
        "Newton's laws of motion are three basic laws of classical mechanics that describe the relationship between\n",
        " the motion of an object and the forces acting on it. These laws can be paraphrased as follows:\n",
        "\n",
        "1.A body remains at rest, or in motion at a constant speed in a straight line, unless acted upon by a force.\n",
        "2.When a body is acted upon by a force, the time rate of change of its momentum equals the force.\n",
        "3.If two bodies exert forces on each other, these forces have the same magnitude but opposite directions.\n",
        "\"\"\""
      ],
      "metadata": {
        "id": "Kko2V9EuVR8w"
      },
      "execution_count": null,
      "outputs": []
    },
    {
      "cell_type": "code",
      "source": [
        "\"\"\"\n",
        "The French Revolution \n",
        "was a period of radical political and societal change in France that began\n",
        "with the Estates General of 1789 and ended with the formation of the\n",
        "French Consulate in November 1799. Many of its ideas are considered\n",
        "fundamental principles of liberal democracy, while the values and\n",
        "institutions it created remain central to French political discourse.\n",
        "\"\"\""
      ],
      "metadata": {
        "id": "N9_WP0OjVR0J"
      },
      "execution_count": null,
      "outputs": []
    },
    {
      "cell_type": "code",
      "source": [
        "\"\"\"\n",
        "Oshi no Ko (【推しの子】, \"My Favorite Idol\" or \"Their Idol's Children\"\n",
        "stylized as【Oshi No Ko】 is a Japanese manga series written by Aka Akasaka\n",
        "and illustrated by Mengo Yokoyari. It has been serialized in Shueisha's Weekly\n",
        "Young Jump since April 2020, with its chapters collected in 11 tankōbon volumes\n",
        "as of March 2023. It has been licensed for release in North America by Yen Press\n",
        "and simultaneously published by Shueisha on their Manga Plus platform. It follows\n",
        "a doctor and his recently-deceased patient who became reborn as twins to a famous\n",
        "Japanese pop idol and navigate the highs and lows of the country's entertainment\n",
        "industry as they grow up together through their lives.\n",
        "\"\"\""
      ],
      "metadata": {
        "id": "ovTYFMJVVRpG"
      },
      "execution_count": null,
      "outputs": []
    },
    {
      "cell_type": "code",
      "source": [
        "# อยาบคาย ไหม\n",
        "# ai นั้น สร้างคำถามได้ถูกต้องไหม (เช่น ไม่มีการทายมั่ว  )\n",
        "# ai ถามได้ clear ไหม (เราสามารถ เข้าใจในสิ่งที่ Ai ได้สรเางขึ้น)\n",
        "# ความคิดสร้างสรรค์ (เป็นคำถามที่ไม่น่าถามเท่าไหร่ หรือว่า มันเป็นคำถามที่ต้องใช้ความคิดระดับนึงในการหาคำตอบ)\n",
        "\n",
        "# อยาบคาย ไหม\n",
        "# ai นั้ง สร้างผลเฉลยสอดคล้องกับคำถามไหม\n",
        "# คำตอบนี้ เป็นคำตอบที่ดีไหม (เช่น คำตอบนี้สามารถตอบได้เคลียไหม หรือ คำตอบย้งกำกวม)\n",
        "# มีประโยชน์สำหรับการใช้งานจริงไหม\n"
      ],
      "metadata": {
        "id": "IEE-mlXXVRfN"
      },
      "execution_count": null,
      "outputs": []
    },
    {
      "cell_type": "code",
      "source": [
        "# ai นั้น สร้างคำถามได้ถูกต้องไหม (ไม่มีการสร้างคำแบบมั่วๆ)\n",
        "# 1.ai สร้างคำถามได้มั่วมากๆ\n",
        "# 2.ai สร้างคำถามได้มั่วนิดหน่อยพออ่านเข้าใจได้\n",
        "# 3.ai สร้างคำถามได้ถูกต้องไม่มีการมั่ว\n",
        "\n",
        "# ความคิดสร้างสรรค์ (เป็นคำถามที่ไม่น่าถามเท่าไหร่ หรือว่า มันเป็นคำถามที่ต้องใช้ความคิดระดับนึงในการหาคำตอบ)\n",
        "# 1.ถ้า Aigenมั่วๆ ให้ตอบข้อนี้(ตอบ 1 หรือ 2 ในข้อที่แล้ว)\n",
        "# 2.เป็นคำถามที่ไม่ได้ซับซ้อนในการที่จะตอบคำถามนี้\n",
        "# 3.เป็นคำถามที่ต้องใช้การคิดวิเคราะห์ระดับนึงในการตอบ"
      ],
      "metadata": {
        "id": "uFksq07zVRRV"
      },
      "execution_count": null,
      "outputs": []
    },
    {
      "cell_type": "code",
      "source": [
        "# สร้างคำตอบได้ถูกต้องไหม\n",
        "# 1.เป็นการตอบมั่วๆ\n",
        "# 2.เป็นคำตอบที่มีการมั่วนิดหน่อยพออ่านเข้าใจได้\n",
        "# 3.เป็คำตอบที่ไม่มีการสร้างมามั่วๆ\n",
        "\n",
        "# ประโยชน์ในการใช้งาน\n",
        "# 1.ถ้า Aigenมั่วๆ ให้ตอบข้อนี้(ตอบ 1 ในข้อที่แล้ว)\n",
        "# 2.เป็นคำตอบที่พอมีประโยชน์บ้างอาจจะต้องให้คนถามไปศึกษาเพิ่มเติม\n",
        "# 3.เป็นคำตอบที่มีประโยชน์ต่อคนถามมากที่สุด"
      ],
      "metadata": {
        "id": "wgvSZpYDPoR0"
      },
      "execution_count": null,
      "outputs": []
    },
    {
      "cell_type": "code",
      "source": [
        "import random \n",
        "import pandas as pd\n",
        "n_sample = 100\n",
        "context = [f'context {i}' for i in range(n_sample)]\n",
        "bot_create = [f'bot_create {i}' for i in range(n_sample)]\n",
        "\n",
        "question_creative = [str(random.randint(1,3)) for i in range(n_sample)]\n",
        "answer_creative = [str(random.randint(1,3)) for i in range(n_sample)]\n",
        "question_grammar =[str(random.randint(1,3)) for i in range(n_sample)] \n",
        "answer_grammar =[str(random.randint(1,3)) for i in range(n_sample)] \n",
        "\n",
        "# question_creative = [i for j in range(3) for i in range(1,4)]\n",
        "# answer_creative = [i for i in range(1,4) for j in range(3)]\n",
        "count = [1] * n_sample\n",
        "data = {\n",
        "    \"context\":context,\n",
        "    \"bot_create\":bot_create,\n",
        "    \"question_creative\":question_creative,\n",
        "    \"question_grammar\":question_grammar,\n",
        "    \"answer_creative\":answer_creative,\n",
        "    \"answer_grammar\":answer_grammar,\n",
        "    \"count\":count\n",
        "}\n",
        "data = pd.DataFrame(data)\n",
        "data"
      ],
      "metadata": {
        "id": "Wy3JYLIprHNe"
      },
      "execution_count": null,
      "outputs": []
    },
    {
      "cell_type": "code",
      "source": [
        "# pd.DataFrame(data.groupby(['question_creative','answer_creative'])['count'].sum())"
      ],
      "metadata": {
        "id": "okZnsOVQe3NN"
      },
      "execution_count": null,
      "outputs": []
    },
    {
      "cell_type": "code",
      "source": [
        "import numpy as np\n",
        "metric = pd.pivot_table(data, values='count', \n",
        "                                index='question_creative', \n",
        "                                columns='answer_creative', \n",
        "                                aggfunc=np.sum,\n",
        "                                fill_value=0)\n",
        "metric"
      ],
      "metadata": {
        "id": "Kb4c1vrVcZx7"
      },
      "execution_count": null,
      "outputs": []
    },
    {
      "cell_type": "code",
      "source": [
        "sample = {\n",
        "    'question_creative':[i[0][0]  for i in data.groupby(['question_creative','answer_creative'])] ,\n",
        "    'answer_creative':[i[0][1]  for i in data.groupby(['question_creative','answer_creative'])],\n",
        "    'count':[len(i[1])  for i in data.groupby(['question_creative','answer_creative'])]\n",
        "}\n",
        "sample = pd.DataFrame(sample)\n",
        "sample"
      ],
      "metadata": {
        "id": "ZN5X4N7ad5L7"
      },
      "execution_count": null,
      "outputs": []
    },
    {
      "cell_type": "code",
      "source": [
        "import plotly.express as px\n",
        "fig = px.bar(sample,x='question_creative', y='count',color='answer_creative')\n",
        "fig.show()"
      ],
      "metadata": {
        "id": "5ZOOAkuOWOuX"
      },
      "execution_count": null,
      "outputs": []
    },
    {
      "cell_type": "code",
      "source": [
        "import plotly.express as px\n",
        "\n",
        "fig = px.imshow(metric, text_auto=True)\n",
        "fig.update_xaxes(side=\"top\")\n",
        "fig.show()\n"
      ],
      "metadata": {
        "id": "xvtI8_t2DxdU"
      },
      "execution_count": null,
      "outputs": []
    },
    {
      "cell_type": "code",
      "source": [],
      "metadata": {
        "id": "ZtNDYOjwtsAQ"
      },
      "execution_count": null,
      "outputs": []
    }
  ]
}
