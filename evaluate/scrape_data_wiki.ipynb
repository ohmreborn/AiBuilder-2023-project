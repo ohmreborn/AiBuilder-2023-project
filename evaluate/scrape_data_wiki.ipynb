{
  "nbformat": 4,
  "nbformat_minor": 0,
  "metadata": {
    "colab": {
      "private_outputs": true,
      "provenance": [],
      "gpuType": "T4",
      "authorship_tag": "ABX9TyMRLkMCKX7b7j78RAh8NgkN",
      "include_colab_link": true
    },
    "kernelspec": {
      "name": "python3",
      "display_name": "Python 3"
    },
    "language_info": {
      "name": "python"
    }
  },
  "cells": [
    {
      "cell_type": "markdown",
      "metadata": {
        "id": "view-in-github",
        "colab_type": "text"
      },
      "source": [
        "<a href=\"https://colab.research.google.com/github/ohmreborn/question-generation-AIB2023/blob/main/evaluate/scrape_data_wiki_and_eval.ipynb\" target=\"_parent\"><img src=\"https://colab.research.google.com/assets/colab-badge.svg\" alt=\"Open In Colab\"/></a>"
      ]
    },
    {
      "cell_type": "code",
      "source": [
        "package = \"\"\"\n",
        "appdirs\n",
        "loralib\n",
        "bitsandbytes\n",
        "black\n",
        "black[jupyter]\n",
        "datasets\n",
        "fire\n",
        "peft==0.3.0\n",
        "transformers==4.28.1\n",
        "sentencepiece\n",
        "gradio\n",
        "gdown\n",
        "\"\"\"\n",
        "with open('requirements.txt','w') as f:\n",
        "    f.write(package)\n",
        "  \n",
        "!pip install -r requirements.txt\n",
        "!pip install accelerate==0.18.0\n"
      ],
      "metadata": {
        "id": "j4LFDHVZGqUS"
      },
      "execution_count": null,
      "outputs": []
    },
    {
      "cell_type": "code",
      "execution_count": null,
      "metadata": {
        "id": "5u6ZPVDfGAnZ"
      },
      "outputs": [],
      "source": [
        "# from bs4 import BeautifulSoup\n",
        "# import requests\n",
        "\n",
        "# page = requests.get(\"https://en.wikipedia.org/wiki/Wikipedia:WikiProject_Lists_of_topics\")\n",
        "\n",
        "# soup = BeautifulSoup(page.content, 'html.parser')\n",
        "\n",
        "# topic = [p.find_all('a',class_=\"mw-redirect\") for p in soup.find_all('p')]\n",
        "# topic = [t for top in topic for t in top]\n",
        "# topic = topic[3:]\n",
        "# print(topic)\n",
        "# print(len(topic))"
      ]
    },
    {
      "cell_type": "code",
      "source": [
        "# import pandas as pd\n",
        "# def scrape_topic(url):\n",
        "#   page = requests.get(url)\n",
        "#   soup = BeautifulSoup(page.content, 'html.parser')\n",
        "#   topic = soup.find_all('p')[:3]#.text.strip()\n",
        "#   topic = [t.text.strip() for t in topic]\n",
        "#   return ' '.join(topic)\n",
        "# data = [scrape_topic(f\"https://en.wikipedia.org/{url.get('href')}\") for url in topic] \n",
        "# print(data)\n",
        "# print(len(data))\n",
        "# # for url in topic:\n",
        "# #   url = f\"https://en.wikipedia.org/{url.get('href')}\"\n",
        "# #   print(len(scrape_topic(url).split()))\n",
        "# #   if len(scrape_topic(url).split()) <= 30:\n",
        "# #     break"
      ],
      "metadata": {
        "id": "bSQhpu51jk6h"
      },
      "execution_count": null,
      "outputs": []
    },
    {
      "cell_type": "markdown",
      "source": [
        "#clean data"
      ],
      "metadata": {
        "id": "YvYKETbBzC5b"
      }
    },
    {
      "cell_type": "code",
      "source": [
        "import pandas as pd"
      ],
      "metadata": {
        "id": "mQBYSNHRhuJO"
      },
      "execution_count": null,
      "outputs": []
    },
    {
      "cell_type": "code",
      "source": [
        "# art 4\n",
        "art = [\n",
        "  \"\"\"Culture – a set of patterns of human activity within a community or social group and the symbolic structures that give significance to such activity. Customs, laws, dress, architectural style, social standards, and traditions are all examples of cultural elements.  Since 2010, Culture is considered the Fourth Pillar of Sustainable Development by UNESCO.\"\"\",\n",
        "  \"\"\"Classical studies (Classics for short) – earliest branch of the humanities, which covers the languages, literature, history, art, and other cultural aspects of the ancient Mediterranean world.  The field focuses primarily on, but is not limited to, Ancient Greece and Ancient Rome during classical antiquity, the era spanning from the late Bronze Age of Ancient Greece during the Minoan and Mycenaean periods (c. 1600–1100 BC) through the period known as Late Antiquity to the fall of the Western Roman Empire, c. 500 AD.\"\"\",\n",
        "  \"\"\"Food preparation is an art form and applied science that includes techniques like cooking to make ingredients fit for consumption and/or palatable. The process of food preparation includes selecting the ingredients needed and correctly handling ingredients to produce the components of a meal.\"\"\",\n",
        "  \"\"\"Critical theory – the examination and critique of society and culture, drawing from knowledge across the social sciences and humanities. The term has two different meanings with different origins and histories: one originating in sociology and the other in literary criticism. This has led to the very literal use of 'critical theory' as an umbrella term to describe any theory founded upon critique. The term \"Critical Theory\" was first coined by Max Horkheimer in his 1937 essay \"Traditional and Critical Theory\".\"\"\",\n",
        "]\n",
        "art = pd.DataFrame(art,columns=['art'])\n",
        "art"
      ],
      "metadata": {
        "id": "DTYo3hCv15EU"
      },
      "execution_count": null,
      "outputs": []
    },
    {
      "cell_type": "code",
      "source": [
        "# health and fitness 4\n",
        "health = [\n",
        "  \"\"\"Health – functional and metabolic efficiency of an organism. It is the ability to live long, function well (physically and mentally), and prosper. Reproductive health\"\"\",\n",
        "  \"\"\"Exercise – any bodily activity that enhances or log physical fitness and overall health and wellness. It is performed for various reasons including strengthening muscles and the cardiovascular system, honing athletic skills, weight loss or maintenance, as well as for the purpose of enjoyment. Frequent and regular physical exercise boosts the immune system, and helps prevent the \"diseases of affluence\" such as heart disease, cardiovascular disease, Type 2 diabetes and obesity.\"\"\",\n",
        "  \"\"\"Health sciences are those sciences which focus on health, or health care, as core parts of their subject matter. Health sciences relate to multiple academic disciplines, including STEM disciplines and emerging patient safety disciplines.\"\"\",\n",
        "  \"\"\"Nutrition is the biochemical and physiological process by which an organism uses food to support its life. It provides organisms with nutrients, which can be metabolized to create energy and chemical structures. Failure to obtain sufficient nutrients causes malnutrition. \"\"\",\n",
        "]\n",
        "health = pd.DataFrame(health,columns=['health'])\n",
        "health"
      ],
      "metadata": {
        "id": "Ro5VuswL16Zh"
      },
      "execution_count": null,
      "outputs": []
    },
    {
      "cell_type": "code",
      "source": [
        "# history 4\n",
        "history = [\n",
        "  \"\"\"History – discovery, collection, organization, and presentation of information about past events. History can also mean the period of time after writing was invented (the beginning of recorded history).\"\"\",\n",
        "  \"\"\"studies  – earliest branch of the humanities, which covers the languages, literature, history, art, and other cultural aspects of the ancient Mediterranean world.  The field focuses primarily on, but is not limited to, Ancient Greece and Ancient Rome during classical antiquity, the era spanning from the late Bronze Age of Ancient Greece during the Minoan and Mycenaean periods (c. 1600–1100 BC) through the period known as Late Antiquity to the fall of the Western Roman Empire, c. 500 AD. The word classics is also used to refer to the literature of the period. History of the western classics (Not to be confused with classical history\"\"\",\n",
        "  \"\"\"Middle Ages – periodization of European history from the 5th century to the 15th century. The Middle Ages follows the fall of the Western Roman Empire in 476 and precedes the Early Modern Era. It is the middle period of a three-period division of Western history: Classic, Medieval and Modern. Middle Ages\"\"\",\n",
        "  \"\"\"Renaissance – cultural movement that spanned roughly the 14th to the 17th century, beginning in Italy in the Late Middle Ages and later spreading to the rest of Europe. The term is also used more loosely to refer to the historical era, but since the changes of the Renaissance were not uniform across Europe, this is a general use of the term. Renaissance\"\"\",\n",
        "\n",
        "]\n",
        "history = pd.DataFrame(history,columns=['history'])\n",
        "history"
      ],
      "metadata": {
        "id": "W0f9IxvU4ctQ"
      },
      "execution_count": null,
      "outputs": []
    },
    {
      "cell_type": "code",
      "source": [
        "# math 5\n",
        "math = [\n",
        "  \"\"\"Arithmetic is an elementary branch of mathematics that is widely used for tasks ranging from simple day-to-day counting to advanced science and business calculations.\"\"\",\n",
        "  \"\"\"Algebra is one of the main branches of mathematics, covering the study of structure, relation and quantity. Algebra studies the effects of adding and multiplying numbers, variables, and polynomials, along with their factorization and determining their roots. In addition to working directly with numbers, algebra also covers symbols, variables, and set elements. Addition and multiplication are general operations, but their precise definitions lead to structures such as groups, rings, and fields.\"\"\",\n",
        "  \"\"\"Discrete mathematics is the study of mathematical structures that are fundamentally discrete rather than continuous.  In contrast to real numbers that have the property of varying \"smoothly\", the objects studied in discrete mathematics – such as integers,  graphs, and statements in logic[1] – do not vary smoothly in this way, but have distinct, separated values.[2] Discrete mathematics, therefore, excludes topics in \"continuous mathematics\" such as calculus and analysis. Included below are many of the standard terms used routinely in university-level courses and in research papers. This is not, however, intended as a complete list of mathematical terms; just a selection of typical terms of art that may be encountered. For further reading in discrete mathematics, beyond a basic level, see these pages. Many of these disciplines are closely related to computer science.\"\"\",\n",
        "  \"\"\"Trigonometry is a branch of mathematics that studies the relationships between the sides and the angles in triangles. Trigonometry defines the trigonometric functions, which describe those relationships and have applicability to cyclical phenomena, such as waves. Uses of trigonometry Trigonometric identity \"\"\",\n",
        "  \"\"\"Logic  is the formal science of using reason and is considered a branch of both philosophy and mathematics and to a lesser extent computer science. Logic investigates and classifies the structure of statements and arguments, both through the study of formal systems of inference and the study of arguments in natural language. The scope of logic can therefore be very large, ranging from core topics such as the study of fallacies and paradoxes, to specialized analyses of reasoning such as probability, correct reasoning, and arguments involving causality. One of the aims of logic is to identify the correct and incorrect inferences.\"\"\",\n",
        "]\n",
        "math = pd.DataFrame(math,columns=['math'])\n",
        "math"
      ],
      "metadata": {
        "id": "DuDshQEN18Hn"
      },
      "execution_count": null,
      "outputs": []
    },
    {
      "cell_type": "code",
      "source": [
        "# biology 5\n",
        "biology = [\n",
        "  \"\"\" Biology – The natural science that studies life. Areas of focus include structure, function, growth, origin, evolution, distribution, and taxonomy. Outline of biochemistry\"\"\",\n",
        "  \"\"\"Animals are multicellular eukaryotic organisms in the biological kingdom Animalia. With few exceptions, animals consume organic material, breathe oxygen, are able to move, reproduce sexually, and grow from a hollow sphere of cells, the blastula, during embryonic development. Over 1.5 million living animal species have been described—of which around 1 million are insects—but it has been estimated there are over 7 million in total. Animals range in size from 8.5 millionths of a metre to 33.6 metres long and have complex interactions with each other and their environments, forming intricate food webs. The study of animals is called zoology. Animals may be listed or indexed by many criteria, including taxonomy, status as endangered species, their geographical location, and their portrayal and/or naming in human culture.\"\"\",\n",
        "  \"\"\"Biochemistry – study of chemical processes in living organisms, including living matter. Biochemistry governs all living organisms and living processes. Biotechnology,\\nBioluminescence,\\nMolecular chemistry,\\nEnzymatic chemistry,\\nGenetic engineering,\\nPharmaceuticals,\\nEndocrinology,\\nNeurochemistry\\nHematology,\\nNutrition,\\nPhotosynthesis,\\nEnvironmental,\\nToxicology\"\"\",\n",
        "  \"\"\"Ecology – scientific study of the distribution and abundance of living organisms and how the distribution and abundance are affected by interactions between the organisms and their environment.\"\"\",\n",
        "  \"\"\"Zoology – study of animals.  Zoology, or \"animal biology\", is the branch of biology that relates to the animal kingdom, including the identification, structure, embryology, evolution, classification, habits, and distribution of all animals, both living and extinct, and how they interact with their ecosystems. \"\"\",\n",
        "  \n",
        "]\n",
        "biology = pd.DataFrame(biology,columns=['biology'])\n",
        "biology"
      ],
      "metadata": {
        "id": "_OdfIupF19ZV"
      },
      "execution_count": null,
      "outputs": []
    },
    {
      "cell_type": "code",
      "source": [
        "# physical science 6\n",
        "physical_science = [\n",
        "  \"\"\"Physical science is a branch of natural science that studies non-living systems, in contrast to life science. It in turn has many branches, each referred to as a \"physical science\", together called the \"physical sciences\". Physical science can be described as all of the following: History of physical science – history of the branch of natural science that studies non-living systems, in contrast to the life sciences. It in turn has many branches, each referred to as a \"physical science\", together called the \"physical sciences\". However, the term \"physical\" creates an unintended, somewhat arbitrary distinction, since many branches of physical science also study biological phenomena (organic chemistry, for example). The four main branches of physical science are astronomy, physics, chemistry, and the Earth sciences, which include meteorology and geology.\"\"\",\n",
        "  \"\"\"Astronomy – studies the universe beyond Earth, including its formation and development, and the evolution, physics, chemistry, meteorology, and motion of celestial objects (such as galaxies, planets, etc.) and phenomena that originate outside the atmosphere of Earth (such as the cosmic background radiation). Astronomy also intersect with biology, as astrobiology, studying potential life throughout the universe.\"\"\",\n",
        "  \"\"\"Chemistry is the science of atomic matter (matter that is composed of chemical elements), especially its chemical reactions, but also including its properties, structure, composition, behavior, and changes as they relate to the chemical reactions.\"\"\",\n",
        "  \"\"\"Earth science – all-embracing term for the sciences related to the planet Earth. It is also known as geoscience, the geosciences or the Earthquake sciences, and is arguably a special case in planetary science, the Earth being the only known life-bearing planet. \"\"\",\n",
        "  \"\"\"Physics – natural science that involves the study of matter and its motion through spacetime, along with related concepts such as energy and force.\"\"\",\n",
        "  \"\"\"Psychology refers to the study of subconscious and conscious activities, such as emotions and thoughts. It is a field of study that bridges the scientific and social sciences and has a huge reach. Its goal is to comprehend individuals and groups by both establishing general principles and researching specific cases. Psychology is the study of people and the reasons for their behavior. It has grown in popularity in the last few decades and is now an undergraduate course at many universities. There are a variety of psychology branches that people specialize in, as outlined below.\"\"\",\n",
        "]\n",
        "physical_science = pd.DataFrame(physical_science,columns=['physical_science'])\n",
        "physical_science"
      ],
      "metadata": {
        "id": "Ly9oN6IK41A-"
      },
      "execution_count": null,
      "outputs": []
    },
    {
      "cell_type": "code",
      "source": [
        "# Philosophy and thinking + Geography = 4\n",
        "Philosophy = [\n",
        "  \"\"\"Philosophy is the study of general and fundamental problems concerning matters such as existence, knowledge, values, reason, mind, and language. It is distinguished from other ways of addressing fundamental questions (such as mysticism, myth, or religion) by being critical and generally systematic and by its reliance on rational argument. It involves logical analysis of language and clarification of the meaning of words and concepts. The word \"philosophy\" comes from the Greek philosophia (φιλοσοφία), which literally means \"love of wisdom\".The branches of philosophy and their sub-branches that are used in contemporary philosophy are as follows.\"\"\",\n",
        "  \"\"\"Humanism is a philosophical stance that emphasizes the individual and social potential, and agency of human beings, whom it considers the starting point for serious moral and philosophical inquiry.\"\"\",\n",
        "  \"\"\"Thought (also called thinking) is the mental process in which beings form psychological associations and models of the world.  Thinking is manipulating information, as when we form concepts, engage in problem solving, reason and make decisions.  Thought, the act of thinking, produces more thoughts.  A thought may be an idea, an image, a sound or even control an emotional feeling. Thought (or thinking)\"\"\",\n",
        "  # Geography\n",
        "  \"\"\"Geography is the study of the world and of the distribution of life on the earth, including human life and the effects of human activity. Geography research addresses both the questions of where, as well as why, geographical phenomena occur. Geography is a diverse field that seeks to understand the world and all of its human and natural complexities—not merely where objects are, but how they came to be, and how they have changed since then.\"\"\",\n",
        "]\n",
        "Philosophy = pd.DataFrame(Philosophy,columns=['Philosophy'])\n",
        "Philosophy"
      ],
      "metadata": {
        "id": "MsVSAGpu5Xh-"
      },
      "execution_count": null,
      "outputs": []
    },
    {
      "cell_type": "code",
      "source": [
        "# Social sciences and society 5,5\n",
        "social_1 = [\n",
        "  \"\"\"Religion – organized collection of beliefs, cultural systems, and world views that relate humanity to an order of existence. Many religions have narratives, symbols, and sacred histories that are intended to explain the meaning of life and/or to explain the origin of life or the Universe. From their beliefs about the cosmos and human nature, people derive morality, ethics, religious laws or a preferred lifestyle. According to some estimates, there are roughly 4,200 religions in the world. \"\"\",\n",
        "  \"\"\"Archaeology – study of human cultures through the recovery, documentation, and analysis of material remains and environmental data, including architecture, artifacts, biofacts, human remains, and landscapes. Archaeology\"\"\",\n",
        "  \"\"\"Linguistics is the scientific study of natural language. Someone who engages in this study is called a linguist. Linguistics can be theoretical or applied.\"\"\",\n",
        "  \"\"\"Law is the set of rules and principles (laws) by which a society is governed, through enforcement by governmental authorities. Law is also the field that concerns the creation and administration of laws, and includes any and all legal systems.\"\"\",\n",
        "]\n",
        "social_2 = [\n",
        "  \"\"\"Politics – the exercise of power; process by which groups of people make collective decisions. Politics is the art or science of running governmental or state affairs (including behavior within civil governments), institutions, fields, and special interest groups such as the corporate, academic, and religious segments of society. Political science\"\"\",\n",
        "  \"\"\"The following outline is provided as an overview of topics relating to community. A community is a group of people whose identity as a group lies in their interaction and sharing.  Many factors may affect the identity of the participants and their degree of adhesion, such as intent, belief, resources, preferences, needs and risks. Human geography – who people are and where they live\"\"\",\n",
        "  \"\"\"Criminal justice – system of practices and institutions of governments directed at upholding social control, deterring and mitigating crime, or sanctioning those who violate laws with criminal penalties and rehabilitation efforts. In the 17th Century, William Penn began to promote reform in the Criminal Justice system and helped to see these changes implemented. After the American Revolution, the U.S. Constitution was created which guaranteed freedoms and rights that were never in place in colonial days. This was the starting point to setting guidelines for crimes, punishment and procedures that need to be followed to protect the rights of the innocent. Our modern system of criminal justice is the result of several evolutionary changes that society has undergone since the inception of the United States. Over the years, Americans have developed mechanisms that institute and enforce the rules of society as well as assign responsibility and punish offenders. Today, those functions are carried out by the police, the courts, and corrections. The early beginnings of the criminal justice system in the United States lacked this structure.\"\"\",\n",
        "  \"\"\"Education is the process of facilitating learning, or the acquisition of knowledge, skills, values, morals, beliefs, habits, and personal development. There are many types of potential educational aims and objectives, irrespective of the specific subject being learned. Some can cross multiple school disciplines.\"\"\",\n",
        "  \"\"\"Firefighting – act of extinguishing fires. A firefighter fights these fires to prevent destruction of life, property and the environment. Firefighting is a highly technical skill that requires professionals who have spent years training in both general firefighting techniques and specialized areas of expertise.\"\"\",\n",
        "]\n",
        "social_1 = pd.DataFrame(social_1,columns=['social_1'])\n",
        "social_2 = pd.DataFrame(social_2,columns=['social_2'])\n",
        "display(social_1)\n",
        "display(social_2)"
      ],
      "metadata": {
        "id": "SEUanFEO1_2w"
      },
      "execution_count": null,
      "outputs": []
    },
    {
      "cell_type": "code",
      "source": [
        "all_data = {'001.csv':art,\n",
        "            '002.csv':math,\n",
        "            '003.csv':health,\n",
        "            '004.csv':history,\n",
        "            '005.csv':Philosophy,\n",
        "            '006.csv':physical_science,\n",
        "            '007.csv':biology,\n",
        "            '008.csv':social_1,\n",
        "            '009.csv':social_2}\n",
        "for path,df in all_data.items():\n",
        "  df.to_csv(path,index=False)"
      ],
      "metadata": {
        "id": "r922ps4HzQna"
      },
      "execution_count": null,
      "outputs": []
    },
    {
      "cell_type": "code",
      "source": [
        "pd.read_csv('001.csv')"
      ],
      "metadata": {
        "id": "q9hNiCfn0I2s"
      },
      "execution_count": null,
      "outputs": []
    },
    {
      "cell_type": "code",
      "source": [
        "!wget https://raw.githubusercontent.com/tloen/alpaca-lora/main/templates/alpaca.json"
      ],
      "metadata": {
        "id": "EQb-PJMxoIgj"
      },
      "execution_count": null,
      "outputs": []
    },
    {
      "cell_type": "code",
      "source": [
        "\"\"\"\n",
        "A dedicated helper to manage templates and prompt building.\n",
        "\"\"\"\n",
        "\n",
        "import json\n",
        "import os.path as osp\n",
        "from typing import Union\n",
        "\n",
        "\n",
        "class Prompter(object):\n",
        "\n",
        "    def __init__(self):\n",
        "        \n",
        "        with open('alpaca.json') as fp:\n",
        "            self.template = json.load(fp)\n",
        "\n",
        "    def generate_prompt(\n",
        "        self,\n",
        "        instruction: str,\n",
        "        input: Union[None, str] = None,\n",
        "        label: Union[None, str] = None,\n",
        "    ) -> str:\n",
        "        if input:\n",
        "            res = self.template[\"prompt_input\"].format(\n",
        "                instruction=instruction, input=input\n",
        "            )\n",
        "        else:\n",
        "            res = self.template[\"prompt_no_input\"].format(\n",
        "                instruction=instruction\n",
        "            )\n",
        "        if label:\n",
        "            res = f\"{res}{label}\"\n",
        "        return res\n",
        "\n",
        "    def get_response(self, output: str) -> str:\n",
        "        return output.split(self.template[\"response_split\"])[1].strip()"
      ],
      "metadata": {
        "id": "1VGE6dhMoOhN"
      },
      "execution_count": null,
      "outputs": []
    },
    {
      "cell_type": "code",
      "source": [
        "import os\n",
        "import sys\n",
        "\n",
        "import torch\n",
        "import transformers\n",
        "from peft import PeftModel\n",
        "from transformers import GenerationConfig, LlamaForCausalLM, LlamaTokenizer, BitsAndBytesConfig\n",
        "def main(\n",
        "    load_8bit: bool = True,\n",
        "    base_model: str = \"decapoda-research/llama-7b-hf\",\n",
        "    lora_weights: str = \"ohmreborn/llama-lora-7b\",\n",
        "):\n",
        "    tokenizer = LlamaTokenizer.from_pretrained(base_model)\n",
        "    model = LlamaForCausalLM.from_pretrained(\n",
        "        base_model,\n",
        "        load_in_8bit=load_8bit,\n",
        "        torch_dtype=torch.float16,\n",
        "        device_map=\"auto\",\n",
        "    )\n",
        "    model = PeftModel.from_pretrained(\n",
        "        model,\n",
        "        lora_weights,\n",
        "        torch_dtype=torch.float16,\n",
        "    )\n",
        "    \n",
        "    model.config.pad_token_id = tokenizer.pad_token_id = 0 \n",
        "    model.config.bos_token_id = 1\n",
        "    model.config.eos_token_id = 2\n",
        "\n",
        "    if not load_8bit:\n",
        "        model.half() \n",
        "    model.eval()\n",
        "    if torch.__version__ >= \"2\" and sys.platform != \"win32\":\n",
        "        model = torch.compile(model)\n",
        "    return model,tokenizer\n",
        "    \n",
        "model,tokenizer = main(base_model='decapoda-research/llama-7b-hf',load_8bit=True)\n",
        "print(model)"
      ],
      "metadata": {
        "id": "FYBP0-gQfvlM"
      },
      "execution_count": null,
      "outputs": []
    },
    {
      "cell_type": "code",
      "source": [
        "device = torch.device('cuda' if torch.cuda.is_available() else 'cpu')  \n",
        "device"
      ],
      "metadata": {
        "id": "KGgpKzqXnFMs"
      },
      "execution_count": null,
      "outputs": []
    },
    {
      "cell_type": "code",
      "source": [
        "def gen(\n",
        "    instruction,\n",
        "    input=None,\n",
        "    temperature=0.75,\n",
        "    top_p=0.95, \n",
        "    top_k=50, \n",
        "    repetition_penalty=1.2,\n",
        "    max_new_tokens=1024,\n",
        "    model=None,\n",
        "    tokenizer=None,\n",
        "):\n",
        "    prompter = Prompter()\n",
        "    prompt = prompter.generate_prompt(instruction, input,)\n",
        "    inputs = tokenizer(prompt, return_tensors=\"pt\")\n",
        "    input_ids = inputs[\"input_ids\"].to(device)\n",
        "    generation_config = GenerationConfig(\n",
        "        temperature=temperature,\n",
        "        top_p=top_p,\n",
        "        top_k=top_k,\n",
        "        repetition_penalty=repetition_penalty\n",
        "    )\n",
        "\n",
        "\n",
        "    with torch.no_grad():\n",
        "        generation_output = model.generate(\n",
        "            input_ids=input_ids,\n",
        "            generation_config=generation_config,\n",
        "            return_dict_in_generate=True,\n",
        "            output_scores=True,\n",
        "            max_new_tokens=max_new_tokens,\n",
        "        )\n",
        "    s = generation_output.sequences[0]\n",
        "    output = tokenizer.decode(s)\n",
        "    # print('### Instruction:\\n',instruction)\n",
        "    print('\\n### Input:\\n'+input)\n",
        "    print('\\n### Response:\\n'+prompter.get_response(output))\n",
        "    print('\\n__________________________________________________________________\\n')\n",
        "    return prompter.get_response(output)\n",
        "\n"
      ],
      "metadata": {
        "id": "Zn7QJB15nKR-"
      },
      "execution_count": null,
      "outputs": []
    },
    {
      "cell_type": "code",
      "source": [
        "instruction = \"Please create an inference question in the style of TOEFL reading comprehension section. Also provide an answer in the format\""
      ],
      "metadata": {
        "id": "6nBIdSlvF-X4"
      },
      "execution_count": null,
      "outputs": []
    },
    {
      "cell_type": "code",
      "source": [
        "for context in art.iloc[:,0]:\n",
        "  res = gen(instruction=instruction,input=context,model=model,tokenizer=tokenizer)"
      ],
      "metadata": {
        "id": "Y26JgnbWuvek"
      },
      "execution_count": null,
      "outputs": []
    },
    {
      "cell_type": "code",
      "source": [
        "for context in health.iloc[:,0]:\n",
        "  res = gen(instruction=instruction,input=context,model=model,tokenizer=tokenizer)"
      ],
      "metadata": {
        "id": "ZmA3LcTHuvk0"
      },
      "execution_count": null,
      "outputs": []
    },
    {
      "cell_type": "code",
      "source": [
        "for context in history.iloc[:,0]:\n",
        "  res = gen(instruction=instruction,input=context,model=model,tokenizer=tokenizer)"
      ],
      "metadata": {
        "id": "CWqvnUaFuv73"
      },
      "execution_count": null,
      "outputs": []
    },
    {
      "cell_type": "code",
      "source": [
        "for context in math.iloc[:,0]: # แทน heath\n",
        "  res = gen(instruction=instruction,input=context,model=model,tokenizer=tokenizer)"
      ],
      "metadata": {
        "id": "MPWQ3DJFuvh4"
      },
      "execution_count": null,
      "outputs": []
    },
    {
      "cell_type": "code",
      "source": [
        "for context in Philosophy.iloc[:,0]:\n",
        "  res = gen(instruction=instruction,input=context,model=model,tokenizer=tokenizer)"
      ],
      "metadata": {
        "id": "fuLIiLUfuwXl"
      },
      "execution_count": null,
      "outputs": []
    },
    {
      "cell_type": "code",
      "source": [
        "for context in physical_science.iloc[:,0]:\n",
        "  res = gen(instruction=instruction,input=context,model=model,tokenizer=tokenizer)"
      ],
      "metadata": {
        "id": "E_RCsFoyuwdx"
      },
      "execution_count": null,
      "outputs": []
    },
    {
      "cell_type": "code",
      "source": [
        "for context in biology.iloc[:,0]:\n",
        "  res = gen(instruction=instruction,input=context,model=model,tokenizer=tokenizer)"
      ],
      "metadata": {
        "id": "EjvWBfrr7Lu5"
      },
      "execution_count": null,
      "outputs": []
    },
    {
      "cell_type": "code",
      "source": [
        "for context in social_1.iloc[:,0]:\n",
        "  res = gen(instruction=instruction,input=context,model=model,tokenizer=tokenizer)"
      ],
      "metadata": {
        "id": "htmIaO-xu0Vd"
      },
      "execution_count": null,
      "outputs": []
    },
    {
      "cell_type": "code",
      "source": [
        "for context in social_2.iloc[:,0]:\n",
        "  res = gen(instruction=instruction,input=context,model=model,tokenizer=tokenizer)"
      ],
      "metadata": {
        "id": "KqG5nIYkAhy4"
      },
      "execution_count": null,
      "outputs": []
    }
  ]
}
