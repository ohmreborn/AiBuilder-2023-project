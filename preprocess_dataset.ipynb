{
  "nbformat": 4,
  "nbformat_minor": 0,
  "metadata": {
    "colab": {
      "private_outputs": true,
      "provenance": [],
      "authorship_tag": "ABX9TyOZ7El0nMU6o8ZgMS31HWTm",
      "include_colab_link": true
    },
    "kernelspec": {
      "name": "python3",
      "display_name": "Python 3"
    },
    "language_info": {
      "name": "python"
    }
  },
  "cells": [
    {
      "cell_type": "markdown",
      "metadata": {
        "id": "view-in-github",
        "colab_type": "text"
      },
      "source": [
        "<a href=\"https://colab.research.google.com/github/ohmreborn/question-generation-AIB2023/blob/main/preprocess_dataset.ipynb\" target=\"_parent\"><img src=\"https://colab.research.google.com/assets/colab-badge.svg\" alt=\"Open In Colab\"/></a>"
      ]
    },
    {
      "cell_type": "code",
      "execution_count": null,
      "metadata": {
        "id": "dCLnlLiIxJEh"
      },
      "outputs": [],
      "source": [
        "from google.colab import drive\n",
        "drive.mount('/content/drive')"
      ]
    },
    {
      "cell_type": "code",
      "source": [
        "import json\n",
        "with open('/content/drive/MyDrive/unified_abstract_infill.jsonl') as f:\n",
        "  x = [json.loads(i)['text'] for i in list(f) ]"
      ],
      "metadata": {
        "id": "iqMt0BVCxNHA"
      },
      "execution_count": null,
      "outputs": []
    },
    {
      "cell_type": "code",
      "source": [
        "import pandas as pd\n",
        "df = pd.DataFrame(x,columns=['text'])"
      ],
      "metadata": {
        "id": "rSOGfLFExOob"
      },
      "execution_count": null,
      "outputs": []
    },
    {
      "cell_type": "code",
      "source": [
        "df = df[df['text'].str.startswith('Background:')] \n",
        "df = df.reset_index(drop=True)\n",
        "df"
      ],
      "metadata": {
        "id": "JLMNtf_MxQVi"
      },
      "execution_count": null,
      "outputs": []
    },
    {
      "cell_type": "code",
      "source": [
        "df.to_csv('dataset.csv',index=False)"
      ],
      "metadata": {
        "id": "CiRTa8g3ncWH"
      },
      "execution_count": null,
      "outputs": []
    },
    {
      "cell_type": "code",
      "source": [
        "df"
      ],
      "metadata": {
        "id": "cgLGx89exbDv"
      },
      "execution_count": null,
      "outputs": []
    },
    {
      "cell_type": "code",
      "source": [
        "preprocess(df.iloc[:10])"
      ],
      "metadata": {
        "id": "sK_EDMfaymNn"
      },
      "execution_count": null,
      "outputs": []
    },
    {
      "cell_type": "code",
      "source": [
        "import numpy as np\n",
        "import re"
      ],
      "metadata": {
        "id": "Oqxu3_yoanzO"
      },
      "execution_count": null,
      "outputs": []
    },
    {
      "cell_type": "code",
      "source": [
        "\n",
        "def setup(text):\n",
        "  conversation = text.split('<human>:',1)\n",
        "  conversation[1] = '<human>:' + conversation[1]\n",
        "  # conversation[0] = conversation[0][11:]\n",
        "  return conversation"
      ],
      "metadata": {
        "id": "Xw27y47eLw-a"
      },
      "execution_count": null,
      "outputs": []
    },
    {
      "cell_type": "code",
      "source": [
        "import re\n",
        "def clean(x):\n",
        "  x = re.sub('😃🧘😂🌍🍞🚗📞🎉❤🍆👨👩👧','',x)\n",
        "  x = re.sub('http.+?', '', x)\n",
        "  # x = re.sub(r'[^\\w\\s]','',x)\n",
        "  return x"
      ],
      "metadata": {
        "id": "obewKnVbuclC"
      },
      "execution_count": null,
      "outputs": []
    },
    {
      "cell_type": "code",
      "source": [
        "def preprocess(df):\n",
        "  df.loc[:,['Background:','<human>:_<bot>:']] = np.stack(df['text'].apply(lambda x:setup(x)).values)\n",
        "\n",
        "  df['Background:'] = df['Background:'].apply(lambda x:clean(x))\n",
        "  df['<human>:_<bot>:'] = df['<human>:_<bot>:'].apply(lambda x:clean(x))\n",
        "  return df"
      ],
      "metadata": {
        "id": "xNpXORSKLMi-"
      },
      "execution_count": null,
      "outputs": []
    },
    {
      "cell_type": "code",
      "source": [
        "import json\n",
        "def save_file(start,stop,df):\n",
        "  with open('output.jsonl', 'a') as outfile:\n",
        "      for i in range(start,stop):\n",
        "        data = df.loc[i].to_dict()\n",
        "        json.dump(data, outfile)\n",
        "        outfile.write('\\n')\n",
        "  return stop"
      ],
      "metadata": {
        "id": "VrEmT6OEPZuF"
      },
      "execution_count": null,
      "outputs": []
    },
    {
      "cell_type": "code",
      "source": [
        "from tqdm import tqdm\n",
        "start = 0\n",
        "with tqdm() as bar:\n",
        "  for i,df in enumerate(pd.read_csv('dataset.csv',chunksize=1_000)):\n",
        "    length = df.shape[0]\n",
        "    df = preprocess(df)\n",
        "    save_file(start,start+length,df)\n",
        "    start += length\n",
        "    bar.update()"
      ],
      "metadata": {
        "id": "8RDAHankm5E1"
      },
      "execution_count": null,
      "outputs": []
    },
    {
      "cell_type": "code",
      "source": [
        "from google.colab import auth\n",
        "auth.authenticate_user()\n",
        "from googleapiclient.discovery import build\n",
        "drive_service = build('drive', 'v3')\n",
        "from googleapiclient.http import MediaFileUpload\n",
        "\n",
        "file_metadata = {\n",
        "  'name': f'output.jsonl',\n",
        "  'mimeType': 'text/plain'\n",
        "}\n",
        "media = MediaFileUpload('/content/output.jsonl', \n",
        "                        mimetype='text/plain',\n",
        "                        resumable=True)\n",
        "created = drive_service.files().create(body=file_metadata,\n",
        "                                       media_body=media,\n",
        "                                       fields='id').execute()"
      ],
      "metadata": {
        "id": "UNu1edl30OE_"
      },
      "execution_count": null,
      "outputs": []
    },
    {
      "cell_type": "code",
      "source": [],
      "metadata": {
        "id": "cG5z56jThbJY"
      },
      "execution_count": null,
      "outputs": []
    }
  ]
}