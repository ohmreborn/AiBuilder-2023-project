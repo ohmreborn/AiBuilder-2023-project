{
  "nbformat": 4,
  "nbformat_minor": 0,
  "metadata": {
    "colab": {
      "private_outputs": true,
      "provenance": [],
      "authorship_tag": "ABX9TyOOfpMnedUUkbL28nlmyFWF",
      "include_colab_link": true
    },
    "kernelspec": {
      "name": "python3",
      "display_name": "Python 3"
    },
    "language_info": {
      "name": "python"
    }
  },
  "cells": [
    {
      "cell_type": "markdown",
      "metadata": {
        "id": "view-in-github",
        "colab_type": "text"
      },
      "source": [
        "<a href=\"https://colab.research.google.com/github/ohmreborn/question-generation-AIB2023/blob/main/dataset/preprocess_dataset.ipynb\" target=\"_parent\"><img src=\"https://colab.research.google.com/assets/colab-badge.svg\" alt=\"Open In Colab\"/></a>"
      ]
    },
    {
      "cell_type": "code",
      "execution_count": null,
      "metadata": {
        "id": "dCLnlLiIxJEh"
      },
      "outputs": [],
      "source": [
        "!pip install -q datasets"
      ]
    },
    {
      "cell_type": "code",
      "source": [
        "from datasets import load_dataset\n",
        "datafile = {'train':'unified_abstract_infill.jsonl'}\n",
        "data = load_dataset('laion/OIG',data_files=datafile)\n",
        "print(data)"
      ],
      "metadata": {
        "id": "iqMt0BVCxNHA"
      },
      "execution_count": null,
      "outputs": []
    },
    {
      "cell_type": "code",
      "source": [
        "data = data['train'].filter(lambda x: x['text'].startswith('Background:'))\n",
        "print(data)"
      ],
      "metadata": {
        "id": "iDvGYOkDsWKP"
      },
      "execution_count": null,
      "outputs": []
    },
    {
      "cell_type": "code",
      "source": [
        "import numpy as np\n",
        "import re"
      ],
      "metadata": {
        "id": "Oqxu3_yoanzO"
      },
      "execution_count": null,
      "outputs": []
    },
    {
      "cell_type": "code",
      "source": [
        "\n",
        "def setup(data):\n",
        "  conversation = data['text'].split('<human>:',1)\n",
        "  conversation[1] = '<human>:' + conversation[1]\n",
        "  conversation[0] = conversation[0][11:]\n",
        "  conversation[0] = re.sub('😃🧘😂🌍🍞🚗📞🎉❤🍆👨👩👧','',conversation[0])\n",
        "  conversation[1] = x = re.sub('http.+?', '',conversation[1] )\n",
        "  return {'Background:':conversation[0],\n",
        "          '<human>:_<bot>:':conversation[1]\n",
        "          }"
      ],
      "metadata": {
        "id": "Xw27y47eLw-a"
      },
      "execution_count": null,
      "outputs": []
    },
    {
      "cell_type": "code",
      "source": [
        "data = data.map(setup)\n",
        "print(data)"
      ],
      "metadata": {
        "id": "-7-dEr4itg8u"
      },
      "execution_count": null,
      "outputs": []
    },
    {
      "cell_type": "code",
      "source": [
        "data.to_json('output.jsonl')"
      ],
      "metadata": {
        "id": "cG5z56jThbJY"
      },
      "execution_count": null,
      "outputs": []
    },
    {
      "cell_type": "code",
      "source": [],
      "metadata": {
        "id": "zxxdTuaAvR9W"
      },
      "execution_count": null,
      "outputs": []
    }
  ]
}