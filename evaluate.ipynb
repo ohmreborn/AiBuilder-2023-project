{
  "nbformat": 4,
  "nbformat_minor": 0,
  "metadata": {
    "colab": {
      "private_outputs": true,
      "provenance": [],
      "authorship_tag": "ABX9TyPeU4Q2dTWobegmINFzHYUR",
      "include_colab_link": true
    },
    "kernelspec": {
      "name": "python3",
      "display_name": "Python 3"
    },
    "language_info": {
      "name": "python"
    }
  },
  "cells": [
    {
      "cell_type": "markdown",
      "metadata": {
        "id": "view-in-github",
        "colab_type": "text"
      },
      "source": [
        "<a href=\"https://colab.research.google.com/github/ohmreborn/question-generation/blob/main/evaluate.ipynb\" target=\"_parent\"><img src=\"https://colab.research.google.com/assets/colab-badge.svg\" alt=\"Open In Colab\"/></a>"
      ]
    },
    {
      "cell_type": "code",
      "source": [
        "\"\"\"\n",
        "Newton's laws of motion are three basic laws of classical mechanics that describe the relationship between\n",
        " the motion of an object and the forces acting on it. These laws can be paraphrased as follows:\n",
        "\n",
        "1.A body remains at rest, or in motion at a constant speed in a straight line, unless acted upon by a force.\n",
        "2.When a body is acted upon by a force, the time rate of change of its momentum equals the force.\n",
        "3.If two bodies exert forces on each other, these forces have the same magnitude but opposite directions.\n",
        "\"\"\""
      ],
      "metadata": {
        "id": "Kko2V9EuVR8w"
      },
      "execution_count": null,
      "outputs": []
    },
    {
      "cell_type": "code",
      "source": [
        "\"\"\"\n",
        "The French Revolution \n",
        "was a period of radical political and societal change in France that began\n",
        "with the Estates General of 1789 and ended with the formation of the\n",
        "French Consulate in November 1799. Many of its ideas are considered\n",
        "fundamental principles of liberal democracy, while the values and\n",
        "institutions it created remain central to French political discourse.\n",
        "\"\"\""
      ],
      "metadata": {
        "id": "N9_WP0OjVR0J"
      },
      "execution_count": null,
      "outputs": []
    },
    {
      "cell_type": "code",
      "source": [
        "\"\"\"\n",
        "Oshi no Ko (【推しの子】, \"My Favorite Idol\" or \"Their Idol's Children\"\n",
        "stylized as【Oshi No Ko】 is a Japanese manga series written by Aka Akasaka\n",
        "and illustrated by Mengo Yokoyari. It has been serialized in Shueisha's Weekly\n",
        "Young Jump since April 2020, with its chapters collected in 11 tankōbon volumes\n",
        "as of March 2023. It has been licensed for release in North America by Yen Press\n",
        "and simultaneously published by Shueisha on their Manga Plus platform. It follows\n",
        "a doctor and his recently-deceased patient who became reborn as twins to a famous\n",
        "Japanese pop idol and navigate the highs and lows of the country's entertainment\n",
        "industry as they grow up together through their lives.\n",
        "\"\"\""
      ],
      "metadata": {
        "id": "ovTYFMJVVRpG"
      },
      "execution_count": null,
      "outputs": []
    },
    {
      "cell_type": "code",
      "source": [
        "# อยาบคาย ไหม\n",
        "# ai นั้น สร้างคำถามได้ถูกต้องไหม (เช่น ไม่มีการทายมั่ว  )\n",
        "# ai ถามได้ clear ไหม (เราสามารถ เข้าใจในสิ่งที่ Ai ได้สรเางขึ้น)\n",
        "# ความคิดสร้างสรรค์ (เป็นคำถามที่ไม่น่าถามเท่าไหร่ หรือว่า มันเป็นคำถามที่ต้องใช้ความคิดระดับนึงในการหาคำตอบ)\n",
        "\n",
        "# อยาบคาย ไหม\n",
        "# ai นั้ง สร้างผลเฉลยสอดคล้องกับคำถามไหม\n",
        "# คำตอบนี้ เป็นคำตอบที่ดีไหม (เช่น คำตอบนี้สามารถตอบได้เคลียไหม หรือ คำตอบย้งกำกวม)\n",
        "# มีประโยชน์สำหรับการใช้งานจริงไหม\n"
      ],
      "metadata": {
        "id": "IEE-mlXXVRfN"
      },
      "execution_count": null,
      "outputs": []
    },
    {
      "cell_type": "code",
      "source": [],
      "metadata": {
        "id": "uFksq07zVRRV"
      },
      "execution_count": null,
      "outputs": []
    },
    {
      "cell_type": "code",
      "source": [
        "import random \n",
        "import pandas as pd\n",
        "context = [f'context {i}' for i in range(5)]\n",
        "human_create = [f'human_create {i}' for i in range(5)]\n",
        "bot_create = [f'bot_create {i}' for i in range(5)]\n",
        "human_predicition = [random.randint(0,1) for i in range(5)]\n",
        "actual = [0] * len(human_predicition)\n",
        "data = {\n",
        "    \"context\":context,\n",
        "    \"human_create\":human_create,\n",
        "    \"bot_create\":bot_create,\n",
        "    \"human_predicition\":human_predicition,\n",
        "    \"actual\":actual\n",
        "}\n",
        "data = pd.DataFrame(data)\n",
        "data"
      ],
      "metadata": {
        "id": "Wy3JYLIprHNe"
      },
      "execution_count": null,
      "outputs": []
    },
    {
      "cell_type": "code",
      "source": [
        "from sklearn.metrics import accuracy_score\n",
        "def accurancy(df:pd.DataFrame):\n",
        "  return accuracy_score(df['actual'],df['human_predicition'])"
      ],
      "metadata": {
        "id": "BCfIV8wKsX36"
      },
      "execution_count": null,
      "outputs": []
    },
    {
      "cell_type": "code",
      "source": [
        "accurancy(data)"
      ],
      "metadata": {
        "id": "AUny_0QztmaL"
      },
      "execution_count": null,
      "outputs": []
    },
    {
      "cell_type": "code",
      "source": [],
      "metadata": {
        "id": "ZtNDYOjwtsAQ"
      },
      "execution_count": null,
      "outputs": []
    }
  ]
}