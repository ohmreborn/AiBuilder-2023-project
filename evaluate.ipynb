{
  "nbformat": 4,
  "nbformat_minor": 0,
  "metadata": {
    "colab": {
      "private_outputs": true,
      "provenance": [],
      "authorship_tag": "ABX9TyPNHJrPnZPxtgNWwmr8VDKP",
      "include_colab_link": true
    },
    "kernelspec": {
      "name": "python3",
      "display_name": "Python 3"
    },
    "language_info": {
      "name": "python"
    }
  },
  "cells": [
    {
      "cell_type": "markdown",
      "metadata": {
        "id": "view-in-github",
        "colab_type": "text"
      },
      "source": [
        "<a href=\"https://colab.research.google.com/github/ohmreborn/question-generation/blob/main/evaluate.ipynb\" target=\"_parent\"><img src=\"https://colab.research.google.com/assets/colab-badge.svg\" alt=\"Open In Colab\"/></a>"
      ]
    },
    {
      "cell_type": "code",
      "source": [
        "import random \n",
        "import pandas as pd\n",
        "context = [f'context {i}' for i in range(5)]\n",
        "human_create = [f'human_create {i}' for i in range(5)]\n",
        "bot_create = [f'bot_create {i}' for i in range(5)]\n",
        "human_predicition = [random.randint(0,1) for i in range(5)]\n",
        "actual = [1] * len(human_predicition)\n",
        "data = {\n",
        "    \"context\":context,\n",
        "    \"human_create\":human_create,\n",
        "    \"bot_create\":bot_create,\n",
        "    \"human_predicition\":human_predicition,\n",
        "    \"actual\":actual\n",
        "}\n",
        "data = pd.DataFrame(data)\n",
        "data"
      ],
      "metadata": {
        "id": "Wy3JYLIprHNe"
      },
      "execution_count": null,
      "outputs": []
    },
    {
      "cell_type": "code",
      "source": [
        "from sklearn.metrics import accuracy_score\n",
        "def accurancy(df:pd.DataFrame):\n",
        "  return accuracy_score(df['actual'],df['human_predicition'])"
      ],
      "metadata": {
        "id": "BCfIV8wKsX36"
      },
      "execution_count": null,
      "outputs": []
    },
    {
      "cell_type": "code",
      "source": [
        "accurancy(data)"
      ],
      "metadata": {
        "id": "AUny_0QztmaL"
      },
      "execution_count": null,
      "outputs": []
    },
    {
      "cell_type": "code",
      "source": [],
      "metadata": {
        "id": "ZtNDYOjwtsAQ"
      },
      "execution_count": null,
      "outputs": []
    }
  ]
}